{
 "cells": [
  {
   "cell_type": "code",
   "execution_count": 1,
   "metadata": {},
   "outputs": [],
   "source": [
    "import matplotlib.pyplot as plt\n",
    "import numpy as np\n",
    "import tensorflow as tf\n",
    "import os\n",
    "import csv\n",
    "from PIL import Image"
   ]
  },
  {
   "cell_type": "code",
   "execution_count": 2,
   "metadata": {},
   "outputs": [],
   "source": [
    "model = tf.keras.models.load_model(\"../../../models/model_train_8\")"
   ]
  },
  {
   "cell_type": "code",
   "execution_count": 3,
   "metadata": {},
   "outputs": [],
   "source": [
    "class_names = [0,1] #['Cat', 'Dog']"
   ]
  },
  {
   "cell_type": "code",
   "execution_count": 4,
   "metadata": {},
   "outputs": [],
   "source": [
    "def predict(image):\n",
    "    image = image.resize((80, 80))\n",
    "    image_array = tf.keras.preprocessing.image.img_to_array(image)\n",
    "    image_array = tf.expand_dims(image_array, 0)\n",
    "    prediction = model.predict(image_array, verbose=0)\n",
    "    predicted_class = class_names[np.argmax(prediction[0])]\n",
    "    confidence = int(np.max(prediction[0]) * 100)\n",
    "    return predicted_class, confidence"
   ]
  },
  {
   "cell_type": "code",
   "execution_count": 5,
   "metadata": {},
   "outputs": [],
   "source": [
    "def process_image(image_path):\n",
    "    try:\n",
    "        # Load the image\n",
    "        image = Image.open(image_path)\n",
    "\n",
    "        # Display the image\n",
    "        display(image)\n",
    "\n",
    "        # Perform prediction using the 'predict' function\n",
    "        predicted_class, confidence = predict(image)\n",
    "\n",
    "        print(f\"Predicted class: {predicted_class}\")\n",
    "        print(f\"Confidence: {confidence}%\")\n",
    "\n",
    "    except FileNotFoundError:\n",
    "        print(\"File not found. Please provide a valid image path.\")\n",
    "    except Exception as e:\n",
    "        print(f\"An error occurred: {e}\")"
   ]
  },
  {
   "cell_type": "code",
   "execution_count": 6,
   "metadata": {},
   "outputs": [
    {
     "name": "stdout",
     "output_type": "stream",
     "text": [
      "An error occurred: [Errno 13] Permission denied: '../../../data/raw data/test1'\n"
     ]
    }
   ],
   "source": [
    "image_path_input = '../../../data/raw data/test1'\n",
    "\n",
    "# Process the image\n",
    "process_image(image_path_input)"
   ]
  },
  {
   "cell_type": "code",
   "execution_count": 7,
   "metadata": {},
   "outputs": [
    {
     "name": "stdout",
     "output_type": "stream",
     "text": [
      "CSV file with predictions has been created.\n"
     ]
    }
   ],
   "source": [
    "def process_images_in_folder(folder_path, output_csv_path):\n",
    "    # Get a list of all image files in the folder\n",
    "    image_files = [f for f in os.listdir(folder_path) if f.lower().endswith(('.png', '.jpg', '.jpeg', '.gif'))]\n",
    "\n",
    "    # Create a list to store the results\n",
    "    results = []\n",
    "\n",
    "    # Process each image in the folder\n",
    "    for image_file in image_files:\n",
    "        image_path = os.path.join(folder_path, image_file)\n",
    "\n",
    "        try:\n",
    "            # Load the image\n",
    "            image = Image.open(image_path)\n",
    "\n",
    "            # Perform prediction using the 'predict' function\n",
    "            predicted_class, confidence = predict(image)\n",
    "\n",
    "            # Extract the image name (without extension) and use it as an ID\n",
    "            image_id = os.path.splitext(image_file)[0]\n",
    "\n",
    "            # Append the results to the list\n",
    "            results.append((image_id, image_file, predicted_class, confidence))\n",
    "\n",
    "        except Exception as e:\n",
    "            print(f\"An error occurred while processing {image_file}: {e}\")\n",
    "\n",
    "    # Write the results to a CSV file\n",
    "    with open(output_csv_path, 'w', newline='') as csvfile:\n",
    "        csvwriter = csv.writer(csvfile)\n",
    "        csvwriter.writerow(['ID', 'Image_Name', 'Prediction', 'Confidence'])\n",
    "        for result in results:\n",
    "            csvwriter.writerow(result)\n",
    "\n",
    "    print(\"CSV file with predictions has been created.\")\n",
    "\n",
    "# Set the folder path where the images are located\n",
    "folder_path = '../../../data/raw data/test1'\n",
    "\n",
    "# Set the path for the output CSV file\n",
    "output_csv_path = '../../../data/result/predictions.csv'\n",
    "\n",
    "# Process images and create the CSV file\n",
    "process_images_in_folder(folder_path, output_csv_path)"
   ]
  }
 ],
 "metadata": {
  "kernelspec": {
   "display_name": "Python 3",
   "language": "python",
   "name": "python3"
  },
  "language_info": {
   "codemirror_mode": {
    "name": "ipython",
    "version": 3
   },
   "file_extension": ".py",
   "mimetype": "text/x-python",
   "name": "python",
   "nbconvert_exporter": "python",
   "pygments_lexer": "ipython3",
   "version": "3.11.4"
  },
  "orig_nbformat": 4
 },
 "nbformat": 4,
 "nbformat_minor": 2
}
